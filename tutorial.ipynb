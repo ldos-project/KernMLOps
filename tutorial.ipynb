{
 "cells": [
  {
   "cell_type": "code",
   "execution_count": null,
   "id": "4da464b6-89fc-4ca2-9290-f3bebbe2dfad",
   "metadata": {},
   "outputs": [],
   "source": [
    "!make docker-image > /dev/null 2>&1"
   ]
  },
  {
   "cell_type": "code",
   "execution_count": null,
   "id": "a62bef45-339e-44c1-8309-874c236ed23f",
   "metadata": {},
   "outputs": [],
   "source": [
    "!CONTAINER_CMD=\"bash -lc 'make install-ycsb'\" make docker > /dev/null 2>&1"
   ]
  },
  {
   "cell_type": "code",
   "execution_count": null,
   "id": "f2a1beeb-3882-4dd0-91c7-aa98c303c893",
   "metadata": {},
   "outputs": [],
   "source": [
    "from pathlib import Path\n",
    "import pexpect\n",
    "import os\n",
    "\n",
    "\"\"\" Collector class has helper methods to interact with kermit\"\"\"\n",
    "class Collector: \n",
    "    def __init__(self, config: Path):\n",
    "        self.env = os.environ.copy()\n",
    "        self.env[\"INTERACTIVE\"] = \"i\"\n",
    "        self.env[\"CONTAINER_CMD\"] = f\"bash -lc 'KERNMLOPS_CONFIG_FILE={config} make collect-data'\"\n",
    "        self.collect_process : pexpect.spawn | None = None\n",
    "\n",
    "    def start_collection(self, logfile=None):\n",
    "        self.collect_process = pexpect.spawn(\"make\", [\"docker\"], env=self.env, timeout=None, cwd=\"./\", logfile=logfile)\n",
    "        self.collect_process.expect_exact([\"Ctrl+C\", \"Started benchmark\"])\n",
    "\n",
    "    def _after_run_generate_file_data(exit_code: int) -> dict[str, Path]:\n",
    "        start_path : Path = Path(\"./data\")\n",
    "        if exit_code != 0:\n",
    "            start_path /= \"failed\"\n",
    "        else:\n",
    "            start_path /= \"curated\"\n",
    "        list_of_sys_info_files = start_path.glob(\"system_info/*\")\n",
    "        latest_sys_info = max(list_of_sys_info_files, key=os.path.getctime)\n",
    "        collect_id = str(latest_sys_info).removeprefix(str(start_path /\"system_info/\")).split(\".\")[0]\n",
    "        list_of_files = start_path.glob(f\"*/{collect_id}.*.parquet\")\n",
    "        output = {\"system_info\" : latest_sys_info}\n",
    "        for f in list_of_files:\n",
    "            output[str(f).removeprefix(str(start_path) + \"/\").split(\"/\")[0]] = f\n",
    "        return output\n",
    "        \n",
    "    \n",
    "    def wait(self) -> int:\n",
    "        if self.collect_process is None:\n",
    "            return\n",
    "        return Collector._after_run_generate_file_data(self.collect_process.wait())\n",
    "        \n",
    "    def stop_collection(self):\n",
    "        if self.collect_process is None:\n",
    "            return\n",
    "        self.collect_process.sendline(\"END\")\n",
    "        return self.wait()\n",
    "        \n"
   ]
  },
  {
   "cell_type": "markdown",
   "id": "f5874f9a-d168-446b-9a52-ec5b49f7c35f",
   "metadata": {},
   "source": [
    "There are two ways to run kermit:\n",
    "- With the raw config\n",
    "- With a pre-programmed benchmark config"
   ]
  },
  {
   "cell_type": "code",
   "execution_count": null,
   "id": "b8b6f636-6e03-4a04-bc5d-6b4cff6c9988",
   "metadata": {
    "scrolled": true
   },
   "outputs": [],
   "source": [
    "import subprocess\n",
    "collect = Collector(\"./config/raw_overrides.yaml\")\n",
    "# This creates a raw collector, I suggest looking into this file to learn more\n",
    "\n",
    "w = open(\"hello.txt\", \"wb\")\n",
    "collect.start_collection(logfile=w)\n",
    "print(\"Collection has started\")\n",
    "# Start collection\n",
    "\n",
    "f = open(\"blah.txt\", \"w\")\n",
    "bench_test = subprocess.Popen([\"cat\", \"defaults.yaml\"], stdout=f)\n",
    "bench_test.wait()\n",
    "# Run benchmark application\n",
    "\n",
    "print(\"Exit application\")\n",
    "raw_coll_info = collect.stop_collection()\n",
    "# Stop the Collector"
   ]
  },
  {
   "cell_type": "code",
   "execution_count": null,
   "id": "5b719918-a008-4385-8c0b-59fd99faa7c1",
   "metadata": {},
   "outputs": [],
   "source": [
    "collect = Collector(\"./config/start_overrides.yaml\")\n",
    "# This is a simple redis benchmark config\n",
    "\n",
    "collect.start_collection(None)\n",
    "# Start collection\n",
    "\n",
    "start_coll_info = collect.wait()\n",
    "#Wait for collector to finish\n"
   ]
  },
  {
   "cell_type": "code",
   "execution_count": null,
   "id": "13f43515-ba1c-49da-b6ff-7027169334b2",
   "metadata": {},
   "outputs": [],
   "source": [
    "print(raw_coll_info.keys())\n",
    "print(start_coll_info.keys())"
   ]
  },
  {
   "cell_type": "markdown",
   "id": "cb351660-009f-4c1f-9cd6-8d385159c023",
   "metadata": {},
   "source": [
    "Now let's try to examine some of the system information from this.\n",
    "I use polars, you can use whatever you like as far as data frames go, so long as they can read parquet files."
   ]
  },
  {
   "cell_type": "code",
   "execution_count": null,
   "id": "8f164d85-48c6-4a1e-992c-28c17ac35fd5",
   "metadata": {},
   "outputs": [],
   "source": [
    "import polars as pl\n",
    "df = pl.read_parquet(raw_coll_info[\"process_trace\"])\n",
    "print(df.columns)"
   ]
  },
  {
   "cell_type": "raw",
   "id": "9258bc08-a748-4cb4-9ad8-466aeec46b6b",
   "metadata": {},
   "source": [
    "As a very easy excercise we could filter out the processes that are created during the life of the program and give them the name of the last exec call."
   ]
  },
  {
   "cell_type": "code",
   "execution_count": null,
   "id": "967b0c2e-8e9f-4422-b729-be8c0a2ae1c4",
   "metadata": {},
   "outputs": [],
   "source": [
    "import polars as pl\n",
    "df = pl.read_parquet(raw_coll_info[\"process_trace\"])\n",
    "\n",
    "def filter_process_trace(process_trace_df: pl.DataFrame) -> pl.DataFrame :\n",
    "    df = process_trace_df\n",
    "    # Filter just the processes\n",
    "    df = df.filter(pl.col(\"tgid\") == pl.col(\"pid\")).drop(\"collection_id\")\n",
    "\n",
    "    # Find the last name of each process\n",
    "    start_df = df.sort(pl.col(\"ts_ns\"), descending = True)\n",
    "    helper_dict = {}\n",
    "    for row in start_df.iter_rows():\n",
    "        pid = row[0]\n",
    "        comm = row[3]\n",
    "        if pid in helper_dict.keys() or comm == \"\": \n",
    "            continue\n",
    "        helper_dict[pid] = comm\n",
    "\n",
    "    # Separate the start and end\n",
    "    full_df = start_df.with_columns(pl.col(\"pid\").map_elements(lambda x : helper_dict.get(x, \"\"), return_dtype=str).alias(\"full_name\"))\n",
    "    full_df = full_df.drop([\"tgid\", \"name\"])\n",
    "    start_df = full_df.filter(pl.col(\"cap_type\") == \"start\").rename({\"ts_ns\": \"start_ns\"}).drop(\"cap_type\")\n",
    "    end_df = full_df.filter(pl.col(\"cap_type\") == \"end\").rename({\"ts_ns\": \"end_ns\"}).drop([\"cap_type\", \"full_name\"])\n",
    "\n",
    "    # Join them to get the process table\n",
    "    return start_df.join(end_df, \"pid\")\n",
    "\n"
   ]
  },
  {
   "cell_type": "code",
   "execution_count": null,
   "id": "0247cd05-d451-48b0-a83f-a2404f9f5cbb",
   "metadata": {},
   "outputs": [],
   "source": [
    "filter_process_trace(pl.read_parquet(raw_coll_info[\"process_trace\"]))"
   ]
  },
  {
   "cell_type": "code",
   "execution_count": null,
   "id": "b705e626-63c6-42da-9d6e-4a9f916e8d0d",
   "metadata": {},
   "outputs": [],
   "source": [
    "filter_process_trace(pl.read_parquet(start_coll_info[\"process_trace\"]))"
   ]
  },
  {
   "cell_type": "code",
   "execution_count": null,
   "id": "7d6c1e9a-b5b3-4c70-89f1-1d59a641d148",
   "metadata": {},
   "outputs": [],
   "source": []
  }
 ],
 "metadata": {
  "kernelspec": {
   "display_name": "Python 3 (ipykernel)",
   "language": "python",
   "name": "python3"
  },
  "language_info": {
   "codemirror_mode": {
    "name": "ipython",
    "version": 3
   },
   "file_extension": ".py",
   "mimetype": "text/x-python",
   "name": "python",
   "nbconvert_exporter": "python",
   "pygments_lexer": "ipython3",
   "version": "3.12.3"
  }
 },
 "nbformat": 4,
 "nbformat_minor": 5
}
