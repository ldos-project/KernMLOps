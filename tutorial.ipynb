{
 "cells": [
  {
   "cell_type": "code",
   "execution_count": null,
   "id": "4da464b6-89fc-4ca2-9290-f3bebbe2dfad",
   "metadata": {},
   "outputs": [],
   "source": [
    "!make docker-image > /dev/null 2>&1"
   ]
  },
  {
   "cell_type": "code",
   "execution_count": null,
   "id": "f2a1beeb-3882-4dd0-91c7-aa98c303c893",
   "metadata": {},
   "outputs": [],
   "source": [
    "from pathlib import Path\n",
    "import pexpect\n",
    "import os\n",
    "\n",
    "\"\"\" Collector class has helper methods to interact with kermit\"\"\"\n",
    "class Collector: \n",
    "    def __init__(self, config: Path):\n",
    "        self.env = os.environ.copy()\n",
    "        self.env[\"INTERACTIVE\"] = \"i\"\n",
    "        self.env[\"CONTAINER_CMD\"] = f\"bash -lc 'KERNMLOPS_CONFIG_FILE={config} make collect-data'\"\n",
    "        self.collect_process : pexpect.spawn | None = None\n",
    "\n",
    "    def start_collection(self, logfile=None):\n",
    "        self.collect_process = pexpect.spawn(\"make\", [\"docker\"], env=self.env, timeout=None, cwd=\"./\", logfile=logfile)\n",
    "        self.collect_process.expect_exact([\"Ctrl+C\", \"Started benchmark\"])\n",
    "\n",
    "    def _after_run_generate_file_data(exit_code: int) -> dict[str, Path]:\n",
    "        start_path : Path = Path(\"./data\")\n",
    "        if exit_code != 0:\n",
    "            start_path /= \"failed\"\n",
    "        else:\n",
    "            start_path /= \"curated\"\n",
    "        list_of_sys_info_files = start_path.glob(\"system_info/*\")\n",
    "        latest_sys_info = max(list_of_sys_info_files, key=os.path.getctime)\n",
    "        collect_id = str(latest_sys_info).removeprefix(str(start_path /\"system_info/\")).split(\".\")[0]\n",
    "        list_of_files = start_path.glob(f\"*/{collect_id}.*.parquet\")\n",
    "        output = {\"system_info\" : latest_sys_info}\n",
    "        for f in list_of_files:\n",
    "            output[str(f).removeprefix(str(start_path) + \"/\").split(\"/\")[0]] = f\n",
    "        return output\n",
    "        \n",
    "    \n",
    "    def wait(self) -> int:\n",
    "        if self.collect_process is None:\n",
    "            return\n",
    "        return Collector._after_run_generate_file_data(self.collect_process.wait())\n",
    "        \n",
    "    def stop_collection(self):\n",
    "        if self.collect_process is None:\n",
    "            return\n",
    "        self.collect_process.sendline(\"END\")\n",
    "        return self.wait()\n",
    "        \n"
   ]
  },
  {
   "cell_type": "markdown",
   "id": "f5874f9a-d168-446b-9a52-ec5b49f7c35f",
   "metadata": {},
   "source": [
    "There are two ways to run kermit:\n",
    "- With the raw config\n",
    "- With a pre-programmed benchmark config"
   ]
  },
  {
   "cell_type": "code",
   "execution_count": null,
   "id": "b8b6f636-6e03-4a04-bc5d-6b4cff6c9988",
   "metadata": {
    "scrolled": true
   },
   "outputs": [],
   "source": [
    "collect = Collector(\"./config/raw_overrides.yaml\")\n",
    "# This creates a raw collector, I suggest looking into this file to learn more\n",
    "\n",
    "w = open(\"hello.txt\", \"wb\")\n",
    "collect.start_collection(logfile=w)\n",
    "print(\"Collection has started\")\n",
    "# Start collection\n",
    "\n",
    "f = open(\"blah.txt\", \"w\")\n",
    "bench_test = subprocess.Popen([\"cat\", \"defaults.yaml\"], stdout=f)\n",
    "bench_test.wait()\n",
    "# Run benchmark application\n",
    "\n",
    "print(\"Exit application\")\n",
    "collect.stop_collection()\n",
    "# Stop the Collector"
   ]
  },
  {
   "cell_type": "code",
   "execution_count": null,
   "id": "5b719918-a008-4385-8c0b-59fd99faa7c1",
   "metadata": {},
   "outputs": [],
   "source": [
    "collect = Collector(\"./config/start_overrides.yaml\")\n",
    "# This is a simple redis benchmark config\n",
    "\n",
    "collect.start_collection(None)\n",
    "# Start collection\n",
    "\n",
    "collect.wait()\n",
    "#Wait for collector to finish\n"
   ]
  },
  {
   "cell_type": "code",
   "execution_count": null,
   "id": "174ceb66-d761-4ff4-9267-ede2e9347e8c",
   "metadata": {},
   "outputs": [],
   "source": []
  }
 ],
 "metadata": {
  "kernelspec": {
   "display_name": "Python 3 (ipykernel)",
   "language": "python",
   "name": "python3"
  },
  "language_info": {
   "codemirror_mode": {
    "name": "ipython",
    "version": 3
   },
   "file_extension": ".py",
   "mimetype": "text/x-python",
   "name": "python",
   "nbconvert_exporter": "python",
   "pygments_lexer": "ipython3",
   "version": "3.12.3"
  }
 },
 "nbformat": 4,
 "nbformat_minor": 5
}
