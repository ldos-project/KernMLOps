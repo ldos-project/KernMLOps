{
 "cells": [
  {
   "cell_type": "code",
   "execution_count": 1,
   "id": "4da464b6-89fc-4ca2-9290-f3bebbe2dfad",
   "metadata": {},
   "outputs": [],
   "source": [
    "!make docker-image > /dev/null 2>&1"
   ]
  },
  {
   "cell_type": "code",
   "execution_count": 2,
   "id": "a62bef45-339e-44c1-8309-874c236ed23f",
   "metadata": {},
   "outputs": [],
   "source": [
    "!CONTAINER_CMD=\"bash -lc 'make install-ycsb'\" make docker > /dev/null 2>&1"
   ]
  },
  {
   "cell_type": "code",
   "execution_count": 1,
   "id": "f2a1beeb-3882-4dd0-91c7-aa98c303c893",
   "metadata": {},
   "outputs": [],
   "source": [
    "from python.kernmlops.analysis.collector import Collector"
   ]
  },
  {
   "cell_type": "markdown",
   "id": "f5874f9a-d168-446b-9a52-ec5b49f7c35f",
   "metadata": {},
   "source": [
    "There are two ways to run kermit:\n",
    "- With the raw config\n",
    "- With a pre-programmed benchmark config"
   ]
  },
  {
   "cell_type": "code",
   "execution_count": 2,
   "id": "b8b6f636-6e03-4a04-bc5d-6b4cff6c9988",
   "metadata": {},
   "outputs": [
    {
     "name": "stdout",
     "output_type": "stream",
     "text": [
      "Collection has started\n",
      "Exit application\n",
      "./config/raw_overrides.yaml results in {'quanta_runtime': [PosixPath('data/curated/faux/8f3fa8cf-9cb0-4f7c-928d-dedc7c7ac658/quanta_runtime.end.parquet')], 'process_trace': [PosixPath('data/curated/faux/8f3fa8cf-9cb0-4f7c-928d-dedc7c7ac658/process_trace.end.parquet')], 'file_data': [PosixPath('data/curated/faux/8f3fa8cf-9cb0-4f7c-928d-dedc7c7ac658/file_data.end.parquet')], 'dtlb_walk_duration': [PosixPath('data/curated/faux/8f3fa8cf-9cb0-4f7c-928d-dedc7c7ac658/dtlb_walk_duration.end.parquet')], 'quanta_queued_time': [PosixPath('data/curated/faux/8f3fa8cf-9cb0-4f7c-928d-dedc7c7ac658/quanta_queued_time.end.parquet')], 'process_metadata': [PosixPath('data/curated/faux/8f3fa8cf-9cb0-4f7c-928d-dedc7c7ac658/process_metadata.end.parquet')], 'memory_usage': [PosixPath('data/curated/faux/8f3fa8cf-9cb0-4f7c-928d-dedc7c7ac658/memory_usage.end.parquet')], 'block_io': [PosixPath('data/curated/faux/8f3fa8cf-9cb0-4f7c-928d-dedc7c7ac658/block_io.end.parquet')], 'itlb_misses': [PosixPath('data/curated/faux/8f3fa8cf-9cb0-4f7c-928d-dedc7c7ac658/itlb_misses.end.parquet')], 'tlb_flushes': [PosixPath('data/curated/faux/8f3fa8cf-9cb0-4f7c-928d-dedc7c7ac658/tlb_flushes.end.parquet')], 'dtlb_misses': [PosixPath('data/curated/faux/8f3fa8cf-9cb0-4f7c-928d-dedc7c7ac658/dtlb_misses.end.parquet')], 'system_info': [PosixPath('data/curated/faux/8f3fa8cf-9cb0-4f7c-928d-dedc7c7ac658/system_info.end.parquet')]}\n",
      "{'quanta_runtime': [PosixPath('data/curated/faux/8f3fa8cf-9cb0-4f7c-928d-dedc7c7ac658/quanta_runtime.end.parquet')], 'process_trace': [PosixPath('data/curated/faux/8f3fa8cf-9cb0-4f7c-928d-dedc7c7ac658/process_trace.end.parquet')], 'file_data': [PosixPath('data/curated/faux/8f3fa8cf-9cb0-4f7c-928d-dedc7c7ac658/file_data.end.parquet')], 'dtlb_walk_duration': [PosixPath('data/curated/faux/8f3fa8cf-9cb0-4f7c-928d-dedc7c7ac658/dtlb_walk_duration.end.parquet')], 'quanta_queued_time': [PosixPath('data/curated/faux/8f3fa8cf-9cb0-4f7c-928d-dedc7c7ac658/quanta_queued_time.end.parquet')], 'process_metadata': [PosixPath('data/curated/faux/8f3fa8cf-9cb0-4f7c-928d-dedc7c7ac658/process_metadata.end.parquet')], 'memory_usage': [PosixPath('data/curated/faux/8f3fa8cf-9cb0-4f7c-928d-dedc7c7ac658/memory_usage.end.parquet')], 'block_io': [PosixPath('data/curated/faux/8f3fa8cf-9cb0-4f7c-928d-dedc7c7ac658/block_io.end.parquet')], 'itlb_misses': [PosixPath('data/curated/faux/8f3fa8cf-9cb0-4f7c-928d-dedc7c7ac658/itlb_misses.end.parquet')], 'tlb_flushes': [PosixPath('data/curated/faux/8f3fa8cf-9cb0-4f7c-928d-dedc7c7ac658/tlb_flushes.end.parquet')], 'dtlb_misses': [PosixPath('data/curated/faux/8f3fa8cf-9cb0-4f7c-928d-dedc7c7ac658/dtlb_misses.end.parquet')], 'system_info': [PosixPath('data/curated/faux/8f3fa8cf-9cb0-4f7c-928d-dedc7c7ac658/system_info.end.parquet')]}\n"
     ]
    }
   ],
   "source": [
    "import subprocess\n",
    "import sys\n",
    "collect = Collector(\"./config/raw_overrides.yaml\")\n",
    "# This creates a raw collector, I suggest looking into this file to learn more\n",
    "\n",
    "w = open(\"hello.txt\", \"bw\")\n",
    "collect.start_collection(logfile=w)\n",
    "print(\"Collection has started\")\n",
    "# Start collection\n",
    "\n",
    "f = open(\"blah.txt\", \"w\")\n",
    "bench_test = subprocess.Popen([\"cat\", \"defaults.yaml\"], stdout=f)\n",
    "bench_test.wait()\n",
    "# Run benchmark application\n",
    "\n",
    "print(\"Exit application\")\n",
    "raw_coll_info = collect.stop_collection()\n",
    "print(raw_coll_info)\n",
    "# Stop the Collector"
   ]
  },
  {
   "cell_type": "code",
   "execution_count": 3,
   "id": "5b719918-a008-4385-8c0b-59fd99faa7c1",
   "metadata": {},
   "outputs": [
    {
     "name": "stdout",
     "output_type": "stream",
     "text": [
      "./config/start_overrides.yaml results in {'quanta_runtime': [PosixPath('data/curated/redis/ad589112-5785-4006-a1f0-1706bb94dce0/quanta_runtime.end.parquet')], 'process_trace': [PosixPath('data/curated/redis/ad589112-5785-4006-a1f0-1706bb94dce0/process_trace.end.parquet')], 'file_data': [PosixPath('data/curated/redis/ad589112-5785-4006-a1f0-1706bb94dce0/file_data.end.parquet')], 'dtlb_walk_duration': [PosixPath('data/curated/redis/ad589112-5785-4006-a1f0-1706bb94dce0/dtlb_walk_duration.end.parquet')], 'quanta_queued_time': [PosixPath('data/curated/redis/ad589112-5785-4006-a1f0-1706bb94dce0/quanta_queued_time.end.parquet')], 'process_metadata': [PosixPath('data/curated/redis/ad589112-5785-4006-a1f0-1706bb94dce0/process_metadata.end.parquet')], 'memory_usage': [PosixPath('data/curated/redis/ad589112-5785-4006-a1f0-1706bb94dce0/memory_usage.end.parquet')], 'block_io': [PosixPath('data/curated/redis/ad589112-5785-4006-a1f0-1706bb94dce0/block_io.end.parquet')], 'itlb_misses': [PosixPath('data/curated/redis/ad589112-5785-4006-a1f0-1706bb94dce0/itlb_misses.end.parquet')], 'tlb_flushes': [PosixPath('data/curated/redis/ad589112-5785-4006-a1f0-1706bb94dce0/tlb_flushes.end.parquet')], 'dtlb_misses': [PosixPath('data/curated/redis/ad589112-5785-4006-a1f0-1706bb94dce0/dtlb_misses.end.parquet')], 'system_info': [PosixPath('data/curated/redis/ad589112-5785-4006-a1f0-1706bb94dce0/system_info.end.parquet')]}\n"
     ]
    }
   ],
   "source": [
    "collect = Collector(\"./config/start_overrides.yaml\")\n",
    "# This is a simple redis benchmark config\n",
    "\n",
    "w = open(\"hello.txt\", \"bw\")\n",
    "collect.start_collection(logfile=w)\n",
    "# Start collection\n",
    "\n",
    "start_coll_info = collect.wait()\n",
    "#Wait for collector to finish"
   ]
  },
  {
   "cell_type": "code",
   "execution_count": 5,
   "id": "df4fa599-56a0-4773-be03-7629f6d337a7",
   "metadata": {},
   "outputs": [],
   "source": [
    "from python.kernmlops.analysis.bloat import filter_process_trace, export_graph_data_frame, create_graph"
   ]
  },
  {
   "cell_type": "code",
   "execution_count": null,
   "id": "94874478-33b2-4c67-989c-dc98cfc529f1",
   "metadata": {},
   "outputs": [],
   "source": [
    "w = open(\"hello.txt\", \"bw\")\n",
    "collect = Collector(\"./config/redis_never.yaml\")\n",
    "collect.start_collection(logfile=w)\n",
    "redis_never_info = collect.wait()\n",
    "print(\"Never Finished\")\n",
    "collect = Collector(\"./config/redis_madvise.yaml\")\n",
    "collect.start_collection(logfile=w)\n",
    "redis_madvise_info = collect.wait()\n",
    "print(\"Madvise Finished\")\n",
    "collect = Collector(\"./config/redis_always.yaml\")\n",
    "collect.start_collection(logfile=w)\n",
    "redis_always_info = collect.wait()\n",
    "print(\"Always Finished\")"
   ]
  },
  {
   "cell_type": "code",
   "execution_count": null,
   "id": "3d286e58-45ea-46ad-a69f-6ba6abdb86e4",
   "metadata": {
    "scrolled": true
   },
   "outputs": [],
   "source": [
    "proc_name = \"redis-server\"\n",
    "from IPython.display import Image, display\n",
    "plt = create_graph([(\"4k\", redis_never_info),\n",
    "                    (\"thp\", redis_always_info)],\n",
    "                   proc_name, 0, \n",
    "                   \"redis-server\", 0,\n",
    "                   \"Redis driven by YCSB with Insertions and Deletes using Jemalloc\")\n",
    "plt.save(f\"deletes-{proc_name}.png\")\n",
    "Image(filename=f\"./deletes-{proc_name}.png\")"
   ]
  },
  {
   "cell_type": "code",
   "execution_count": null,
   "id": "9ae5719f-edfd-44b6-9552-5cdcaf677475",
   "metadata": {
    "scrolled": true
   },
   "outputs": [],
   "source": [
    "from plotnine import geom_bar, scale_fill_manual\n",
    "import pandas as pd\n",
    "width = filter_process_trace(pl.read_parquet(\n",
    "        redis_never_info[\"process_trace\"], allow_missing_columns=True\n",
    "    )).filter(pl.col(\"full_name\") == \"java\").width\n",
    "df = pl.DataFrame()\n",
    "for i in range(1, width, 2):\n",
    "    extract_df = export_graph_data_frame([(\"4k\", redis_never_info),\n",
    "                    (\"thp\", redis_always_info)],\n",
    "                   proc_name, 0, \n",
    "                   \"java\", i)\n",
    "    extract_df = extract_df.sort(\"norm_ts_ns\")\n",
    "    last_thp = extract_df.filter(pl.col(\"policy\") == \"thp\").select(pl.col(\"count\").last()).row(0)[0]\n",
    "    last_4k = extract_df.filter(pl.col(\"policy\") == \"4k\").select(pl.col(\"count\").last()).row(0)[0]\n",
    "    tag = \"insert\" if (((i -1)/ 2) % 2) == 0 else \"delete\"\n",
    "    df = pl.concat([df, pl.DataFrame({ \"entry\": i//4, \"bloat\" : last_thp - last_4k, \"phase\" : tag})])\n",
    "df = df.to_pandas()\n",
    "df[\"phase\"] = pd.Categorical(df['phase'], categories=[\"insert\", \"delete\"], ordered=True)\n",
    "plt = (ggplot(df)\n",
    "            + aes(\"entry\", y=\"bloat\", fill=\"phase\")\n",
    "            + geom_bar(stat='identity', position='dodge')\n",
    "            + labs(x=\"Invocation of YCSB\",\n",
    "                   y=\"4kB Pages\",\n",
    "                   title=\"Bloat for YCSB with Jemalloc (THP - 4k)\")\n",
    "            + scale_fill_manual(values=['#ff7f0e', '#1f77b4'])\n",
    "           )\n",
    "plt.save(f\"deletes-redis-server-bloat.png\")\n",
    "Image(filename=f\"./deletes-redis-server-bloat.png\")"
   ]
  },
  {
   "cell_type": "code",
   "execution_count": 59,
   "id": "2e8c8cee-ebda-4938-b782-25fc4ff5352e",
   "metadata": {},
   "outputs": [
    {
     "data": {
      "text/plain": [
       "2693277"
      ]
     },
     "execution_count": 59,
     "metadata": {},
     "output_type": "execute_result"
    }
   ],
   "source": [
    "extract_df = export_graph_data_frame([\n",
    "                    (\"thp\", redis_always_info)],\n",
    "                   \"redis-server\", 0, \n",
    "                   \"redis-server\", 0)\n",
    "extract_df.select(pl.col(\"count\").max()).row(0)[0]"
   ]
  },
  {
   "cell_type": "code",
   "execution_count": 64,
   "id": "b078b301-f62a-4e39-9677-e54fb035549a",
   "metadata": {},
   "outputs": [
    {
     "ename": "KeyboardInterrupt",
     "evalue": "",
     "output_type": "error",
     "traceback": [
      "\u001b[31m---------------------------------------------------------------------------\u001b[39m",
      "\u001b[31mKeyboardInterrupt\u001b[39m                         Traceback (most recent call last)",
      "\u001b[36mCell\u001b[39m\u001b[36m \u001b[39m\u001b[32mIn[64]\u001b[39m\u001b[32m, line 3\u001b[39m\n\u001b[32m      1\u001b[39m \u001b[38;5;66;03m# Don't forget to deploy nn\u001b[39;00m\n\u001b[32m      2\u001b[39m collect = Collector(\u001b[33m\"\u001b[39m\u001b[33m./config/redis_always.yaml\u001b[39m\u001b[33m\"\u001b[39m)\n\u001b[32m----> \u001b[39m\u001b[32m3\u001b[39m \u001b[43mcollect\u001b[49m\u001b[43m.\u001b[49m\u001b[43mstart_collection\u001b[49m\u001b[43m(\u001b[49m\u001b[38;5;28;43;01mNone\u001b[39;49;00m\u001b[43m)\u001b[49m\n\u001b[32m      4\u001b[39m redis_learned_info = collect.wait()\n\u001b[32m      5\u001b[39m \u001b[38;5;28mprint\u001b[39m(\u001b[33m\"\u001b[39m\u001b[33mLearned Finished\u001b[39m\u001b[33m\"\u001b[39m)\n",
      "\u001b[36mCell\u001b[39m\u001b[36m \u001b[39m\u001b[32mIn[3]\u001b[39m\u001b[32m, line 16\u001b[39m, in \u001b[36mCollector.start_collection\u001b[39m\u001b[34m(self, logfile)\u001b[39m\n\u001b[32m     14\u001b[39m \u001b[38;5;28;01mdef\u001b[39;00m\u001b[38;5;250m \u001b[39m\u001b[34mstart_collection\u001b[39m(\u001b[38;5;28mself\u001b[39m, logfile=\u001b[38;5;28;01mNone\u001b[39;00m):\n\u001b[32m     15\u001b[39m     \u001b[38;5;28mself\u001b[39m.collect_process = pexpect.spawn(\u001b[33m\"\u001b[39m\u001b[33mmake docker\u001b[39m\u001b[33m\"\u001b[39m, env=\u001b[38;5;28mself\u001b[39m.env, timeout=\u001b[38;5;28;01mNone\u001b[39;00m, logfile=logfile)\n\u001b[32m---> \u001b[39m\u001b[32m16\u001b[39m     \u001b[38;5;28;43mself\u001b[39;49m\u001b[43m.\u001b[49m\u001b[43mcollect_process\u001b[49m\u001b[43m.\u001b[49m\u001b[43mexpect_exact\u001b[49m\u001b[43m(\u001b[49m\u001b[43m[\u001b[49m\u001b[33;43m\"\u001b[39;49m\u001b[33;43mStarted benchmark\u001b[39;49m\u001b[33;43m\"\u001b[39;49m\u001b[43m]\u001b[49m\u001b[43m)\u001b[49m\n",
      "\u001b[36mFile \u001b[39m\u001b[32m~/.local/share/virtualenvs/KernMLOps-XVq26_cC/lib/python3.12/site-packages/pexpect/spawnbase.py:432\u001b[39m, in \u001b[36mSpawnBase.expect_exact\u001b[39m\u001b[34m(self, pattern_list, timeout, searchwindowsize, async_, **kw)\u001b[39m\n\u001b[32m    430\u001b[39m     \u001b[38;5;28;01mreturn\u001b[39;00m expect_async(exp, timeout)\n\u001b[32m    431\u001b[39m \u001b[38;5;28;01melse\u001b[39;00m:\n\u001b[32m--> \u001b[39m\u001b[32m432\u001b[39m     \u001b[38;5;28;01mreturn\u001b[39;00m \u001b[43mexp\u001b[49m\u001b[43m.\u001b[49m\u001b[43mexpect_loop\u001b[49m\u001b[43m(\u001b[49m\u001b[43mtimeout\u001b[49m\u001b[43m)\u001b[49m\n",
      "\u001b[36mFile \u001b[39m\u001b[32m~/.local/share/virtualenvs/KernMLOps-XVq26_cC/lib/python3.12/site-packages/pexpect/expect.py:169\u001b[39m, in \u001b[36mExpecter.expect_loop\u001b[39m\u001b[34m(self, timeout)\u001b[39m\n\u001b[32m    167\u001b[39m     \u001b[38;5;28;01mreturn\u001b[39;00m \u001b[38;5;28mself\u001b[39m.timeout()\n\u001b[32m    168\u001b[39m \u001b[38;5;66;03m# Still have time left, so read more data\u001b[39;00m\n\u001b[32m--> \u001b[39m\u001b[32m169\u001b[39m incoming = \u001b[43mspawn\u001b[49m\u001b[43m.\u001b[49m\u001b[43mread_nonblocking\u001b[49m\u001b[43m(\u001b[49m\u001b[43mspawn\u001b[49m\u001b[43m.\u001b[49m\u001b[43mmaxread\u001b[49m\u001b[43m,\u001b[49m\u001b[43m \u001b[49m\u001b[43mtimeout\u001b[49m\u001b[43m)\u001b[49m\n\u001b[32m    170\u001b[39m \u001b[38;5;28;01mif\u001b[39;00m \u001b[38;5;28mself\u001b[39m.spawn.delayafterread \u001b[38;5;129;01mis\u001b[39;00m \u001b[38;5;129;01mnot\u001b[39;00m \u001b[38;5;28;01mNone\u001b[39;00m:\n\u001b[32m    171\u001b[39m     time.sleep(\u001b[38;5;28mself\u001b[39m.spawn.delayafterread)\n",
      "\u001b[36mFile \u001b[39m\u001b[32m~/.local/share/virtualenvs/KernMLOps-XVq26_cC/lib/python3.12/site-packages/pexpect/pty_spawn.py:500\u001b[39m, in \u001b[36mspawn.read_nonblocking\u001b[39m\u001b[34m(self, size, timeout)\u001b[39m\n\u001b[32m    495\u001b[39m         timeout = \u001b[32m2\u001b[39m\n\u001b[32m    497\u001b[39m \u001b[38;5;66;03m# Because of the select(0) check above, we know that no data\u001b[39;00m\n\u001b[32m    498\u001b[39m \u001b[38;5;66;03m# is available right now. But if a non-zero timeout is given\u001b[39;00m\n\u001b[32m    499\u001b[39m \u001b[38;5;66;03m# (possibly timeout=None), we call select() with a timeout.\u001b[39;00m\n\u001b[32m--> \u001b[39m\u001b[32m500\u001b[39m \u001b[38;5;28;01mif\u001b[39;00m (timeout != \u001b[32m0\u001b[39m) \u001b[38;5;129;01mand\u001b[39;00m \u001b[43mselect\u001b[49m\u001b[43m(\u001b[49m\u001b[43mtimeout\u001b[49m\u001b[43m)\u001b[49m:\n\u001b[32m    501\u001b[39m     \u001b[38;5;28;01mreturn\u001b[39;00m \u001b[38;5;28msuper\u001b[39m(spawn, \u001b[38;5;28mself\u001b[39m).read_nonblocking(size)\n\u001b[32m    503\u001b[39m \u001b[38;5;28;01mif\u001b[39;00m \u001b[38;5;129;01mnot\u001b[39;00m \u001b[38;5;28mself\u001b[39m.isalive():\n\u001b[32m    504\u001b[39m     \u001b[38;5;66;03m# Some platforms, such as Irix, will claim that their\u001b[39;00m\n\u001b[32m    505\u001b[39m     \u001b[38;5;66;03m# processes are alive; timeout on the select; and\u001b[39;00m\n\u001b[32m    506\u001b[39m     \u001b[38;5;66;03m# then finally admit that they are not alive.\u001b[39;00m\n",
      "\u001b[36mFile \u001b[39m\u001b[32m~/.local/share/virtualenvs/KernMLOps-XVq26_cC/lib/python3.12/site-packages/pexpect/pty_spawn.py:450\u001b[39m, in \u001b[36mspawn.read_nonblocking.<locals>.select\u001b[39m\u001b[34m(timeout)\u001b[39m\n\u001b[32m    449\u001b[39m \u001b[38;5;28;01mdef\u001b[39;00m\u001b[38;5;250m \u001b[39m\u001b[34mselect\u001b[39m(timeout):\n\u001b[32m--> \u001b[39m\u001b[32m450\u001b[39m     \u001b[38;5;28;01mreturn\u001b[39;00m \u001b[43mselect_ignore_interrupts\u001b[49m\u001b[43m(\u001b[49m\u001b[43m[\u001b[49m\u001b[38;5;28;43mself\u001b[39;49m\u001b[43m.\u001b[49m\u001b[43mchild_fd\u001b[49m\u001b[43m]\u001b[49m\u001b[43m,\u001b[49m\u001b[43m \u001b[49m\u001b[43m[\u001b[49m\u001b[43m]\u001b[49m\u001b[43m,\u001b[49m\u001b[43m \u001b[49m\u001b[43m[\u001b[49m\u001b[43m]\u001b[49m\u001b[43m,\u001b[49m\u001b[43m \u001b[49m\u001b[43mtimeout\u001b[49m\u001b[43m)\u001b[49m[\u001b[32m0\u001b[39m]\n",
      "\u001b[36mFile \u001b[39m\u001b[32m~/.local/share/virtualenvs/KernMLOps-XVq26_cC/lib/python3.12/site-packages/pexpect/utils.py:143\u001b[39m, in \u001b[36mselect_ignore_interrupts\u001b[39m\u001b[34m(iwtd, owtd, ewtd, timeout)\u001b[39m\n\u001b[32m    141\u001b[39m \u001b[38;5;28;01mwhile\u001b[39;00m \u001b[38;5;28;01mTrue\u001b[39;00m:\n\u001b[32m    142\u001b[39m     \u001b[38;5;28;01mtry\u001b[39;00m:\n\u001b[32m--> \u001b[39m\u001b[32m143\u001b[39m         \u001b[38;5;28;01mreturn\u001b[39;00m \u001b[43mselect\u001b[49m\u001b[43m.\u001b[49m\u001b[43mselect\u001b[49m\u001b[43m(\u001b[49m\u001b[43miwtd\u001b[49m\u001b[43m,\u001b[49m\u001b[43m \u001b[49m\u001b[43mowtd\u001b[49m\u001b[43m,\u001b[49m\u001b[43m \u001b[49m\u001b[43mewtd\u001b[49m\u001b[43m,\u001b[49m\u001b[43m \u001b[49m\u001b[43mtimeout\u001b[49m\u001b[43m)\u001b[49m\n\u001b[32m    144\u001b[39m     \u001b[38;5;28;01mexcept\u001b[39;00m \u001b[38;5;167;01mInterruptedError\u001b[39;00m:\n\u001b[32m    145\u001b[39m         err = sys.exc_info()[\u001b[32m1\u001b[39m]\n",
      "\u001b[31mKeyboardInterrupt\u001b[39m: "
     ]
    }
   ],
   "source": [
    "# Don't forget to deploy nn\n",
    "collect = Collector(\"./config/redis_always.yaml\")\n",
    "collect.start_collection(None)\n",
    "redis_learned_info = collect.wait()\n",
    "print(\"Learned Finished\")"
   ]
  },
  {
   "cell_type": "code",
   "execution_count": 20,
   "id": "c8bcfd78-4c61-4c00-b3a2-5fb4d8a415cc",
   "metadata": {},
   "outputs": [
    {
     "name": "stdout",
     "output_type": "stream",
     "text": [
      "shape: (1, 5)\n",
      "┌────────┬─────────────────┬──────────────┬─────────────────┬───────────────┐\n",
      "│ pid    ┆ start_ns        ┆ full_name    ┆ end_ns          ┆ duration      │\n",
      "│ ---    ┆ ---             ┆ ---          ┆ ---             ┆ ---           │\n",
      "│ i64    ┆ i64             ┆ str          ┆ i64             ┆ i64           │\n",
      "╞════════╪═════════════════╪══════════════╪═════════════════╪═══════════════╡\n",
      "│ 353388 ┆ 464556609742862 ┆ redis-server ┆ 466320338242564 ┆ 1763728499702 │\n",
      "└────────┴─────────────────┴──────────────┴─────────────────┴───────────────┘\n",
      "shape: (1, 5)\n",
      "┌────────┬─────────────────┬──────────────┬─────────────────┬───────────────┐\n",
      "│ pid    ┆ start_ns        ┆ full_name    ┆ end_ns          ┆ duration      │\n",
      "│ ---    ┆ ---             ┆ ---          ┆ ---             ┆ ---           │\n",
      "│ i64    ┆ i64             ┆ str          ┆ i64             ┆ i64           │\n",
      "╞════════╪═════════════════╪══════════════╪═════════════════╪═══════════════╡\n",
      "│ 353388 ┆ 464556609742862 ┆ redis-server ┆ 466320338242564 ┆ 1763728499702 │\n",
      "└────────┴─────────────────┴──────────────┴─────────────────┴───────────────┘\n",
      "464556609742862 466320338242564\n",
      "shape: (1, 5)\n",
      "┌────────┬─────────────────┬──────────────┬─────────────────┬───────────────┐\n",
      "│ pid    ┆ start_ns        ┆ full_name    ┆ end_ns          ┆ duration      │\n",
      "│ ---    ┆ ---             ┆ ---          ┆ ---             ┆ ---           │\n",
      "│ i64    ┆ i64             ┆ str          ┆ i64             ┆ i64           │\n",
      "╞════════╪═════════════════╪══════════════╪═════════════════╪═══════════════╡\n",
      "│ 374255 ┆ 466337777264928 ┆ redis-server ┆ 468142907472076 ┆ 1805130207148 │\n",
      "└────────┴─────────────────┴──────────────┴─────────────────┴───────────────┘\n",
      "shape: (1, 5)\n",
      "┌────────┬─────────────────┬──────────────┬─────────────────┬───────────────┐\n",
      "│ pid    ┆ start_ns        ┆ full_name    ┆ end_ns          ┆ duration      │\n",
      "│ ---    ┆ ---             ┆ ---          ┆ ---             ┆ ---           │\n",
      "│ i64    ┆ i64             ┆ str          ┆ i64             ┆ i64           │\n",
      "╞════════╪═════════════════╪══════════════╪═════════════════╪═══════════════╡\n",
      "│ 374255 ┆ 466337777264928 ┆ redis-server ┆ 468142907472076 ┆ 1805130207148 │\n",
      "└────────┴─────────────────┴──────────────┴─────────────────┴───────────────┘\n",
      "466337777264928 468142907472076\n",
      "shape: (1, 5)\n",
      "┌────────┬─────────────────┬──────────────┬─────────────────┬───────────────┐\n",
      "│ pid    ┆ start_ns        ┆ full_name    ┆ end_ns          ┆ duration      │\n",
      "│ ---    ┆ ---             ┆ ---          ┆ ---             ┆ ---           │\n",
      "│ i64    ┆ i64             ┆ str          ┆ i64             ┆ i64           │\n",
      "╞════════╪═════════════════╪══════════════╪═════════════════╪═══════════════╡\n",
      "│ 395021 ┆ 468160472808583 ┆ redis-server ┆ 469910205224219 ┆ 1749732415636 │\n",
      "└────────┴─────────────────┴──────────────┴─────────────────┴───────────────┘\n",
      "shape: (1, 5)\n",
      "┌────────┬─────────────────┬──────────────┬─────────────────┬───────────────┐\n",
      "│ pid    ┆ start_ns        ┆ full_name    ┆ end_ns          ┆ duration      │\n",
      "│ ---    ┆ ---             ┆ ---          ┆ ---             ┆ ---           │\n",
      "│ i64    ┆ i64             ┆ str          ┆ i64             ┆ i64           │\n",
      "╞════════╪═════════════════╪══════════════╪═════════════════╪═══════════════╡\n",
      "│ 395021 ┆ 468160472808583 ┆ redis-server ┆ 469910205224219 ┆ 1749732415636 │\n",
      "└────────┴─────────────────┴──────────────┴─────────────────┴───────────────┘\n",
      "468160472808583 469910205224219\n",
      "shape: (1, 5)\n",
      "┌────────┬─────────────────┬──────────────┬─────────────────┬───────────────┐\n",
      "│ pid    ┆ start_ns        ┆ full_name    ┆ end_ns          ┆ duration      │\n",
      "│ ---    ┆ ---             ┆ ---          ┆ ---             ┆ ---           │\n",
      "│ i64    ┆ i64             ┆ str          ┆ i64             ┆ i64           │\n",
      "╞════════╪═════════════════╪══════════════╪═════════════════╪═══════════════╡\n",
      "│ 458612 ┆ 474483592648651 ┆ redis-server ┆ 476272937247718 ┆ 1789344599067 │\n",
      "└────────┴─────────────────┴──────────────┴─────────────────┴───────────────┘\n",
      "shape: (1, 5)\n",
      "┌────────┬─────────────────┬──────────────┬─────────────────┬───────────────┐\n",
      "│ pid    ┆ start_ns        ┆ full_name    ┆ end_ns          ┆ duration      │\n",
      "│ ---    ┆ ---             ┆ ---          ┆ ---             ┆ ---           │\n",
      "│ i64    ┆ i64             ┆ str          ┆ i64             ┆ i64           │\n",
      "╞════════╪═════════════════╪══════════════╪═════════════════╪═══════════════╡\n",
      "│ 458612 ┆ 474483592648651 ┆ redis-server ┆ 476272937247718 ┆ 1789344599067 │\n",
      "└────────┴─────────────────┴──────────────┴─────────────────┴───────────────┘\n",
      "474483592648651 476272937247718\n"
     ]
    },
    {
     "name": "stderr",
     "output_type": "stream",
     "text": [
      "/home/adityat/.local/share/virtualenvs/KernMLOps-XVq26_cC/lib/python3.12/site-packages/plotnine/ggplot.py:615: PlotnineWarning: Saving 6.4 x 4.8 in image.\n",
      "/home/adityat/.local/share/virtualenvs/KernMLOps-XVq26_cC/lib/python3.12/site-packages/plotnine/ggplot.py:616: PlotnineWarning: Filename: learned-redis.png\n"
     ]
    }
   ],
   "source": [
    "from IPython.display import Image, display\n",
    "plt = create_graph([(\"4k\", redis_never_info),\n",
    "                    (\"madvise\", redis_madvise_info),\n",
    "                    (\"thp\", redis_always_info),\n",
    "                    (\"learned\", redis_learned_info)],\n",
    "                   \"redis-server\", 0, \n",
    "                   \"redis-server\", 0,\n",
    "                   \"Redis driven by YCSB with Insertions and Deletes using Jemalloc\")\n",
    "plt.save(\"learned-tcmalloc-redis.png\")\n",
    "Image(filename=\"./learned-tcmalloc-redis.png\")"
   ]
  },
  {
   "cell_type": "code",
   "execution_count": 21,
   "id": "5c28cd4d-c553-467e-83e3-85cf2a64bec4",
   "metadata": {},
   "outputs": [
    {
     "data": {
      "image/png": "[encoded data removed]",
      "text/plain": [
       "<IPython.core.display.Image object>"
      ]
     },
     "execution_count": 21,
     "metadata": {},
     "output_type": "execute_result"
    }
   ],
   "source": [
    "Image(filename=\"./learned-tcmalloc-redis.png\")"
   ]
  },
  {
   "cell_type": "code",
   "execution_count": null,
   "id": "e8c3028a-3d4a-4715-9a1b-37b769a97dc3",
   "metadata": {},
   "outputs": [],
   "source": []
  },
  {
   "cell_type": "code",
   "execution_count": null,
   "id": "9fad914c-bd29-4e80-a5c9-f37cb88f14d5",
   "metadata": {},
   "outputs": [],
   "source": []
  }
 ],
 "metadata": {
  "kernelspec": {
   "display_name": "Python 3 (ipykernel)",
   "language": "python",
   "name": "python3"
  },
  "language_info": {
   "codemirror_mode": {
    "name": "ipython",
    "version": 3
   },
   "file_extension": ".py",
   "mimetype": "text/x-python",
   "name": "python",
   "nbconvert_exporter": "python",
   "pygments_lexer": "ipython3",
   "version": "3.12.3"
  }
 },
 "nbformat": 4,
 "nbformat_minor": 5
}
